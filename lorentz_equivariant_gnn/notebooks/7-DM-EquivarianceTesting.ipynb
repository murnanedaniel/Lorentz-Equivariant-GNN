{
 "cells": [
  {
   "cell_type": "markdown",
   "id": "98815d97",
   "metadata": {},
   "source": [
    "# Build General Equivariant LightningModule"
   ]
  },
  {
   "cell_type": "code",
   "execution_count": 1,
   "id": "faeefbd7",
   "metadata": {},
   "outputs": [],
   "source": [
    "%load_ext autoreload\n",
    "%autoreload 2"
   ]
  },
  {
   "cell_type": "code",
   "execution_count": 2,
   "id": "fa002468-50bd-46a5-b467-ed862e1547f2",
   "metadata": {},
   "outputs": [],
   "source": [
    "import sys\n",
    "import os\n",
    "import yaml\n",
    "\n",
    "import torch\n",
    "import pandas as pd\n",
    "import matplotlib.pyplot as plt\n",
    "import numpy as np\n",
    "from pytorch_lightning import Trainer\n",
    "from pytorch_lightning import LightningModule\n",
    "from pytorch_lightning.loggers import TensorBoardLogger, WandbLogger\n",
    "\n",
    "sys.path.append(\"../\")\n",
    "device = \"cuda\" if torch.cuda.is_available() else \"cpu\""
   ]
  },
  {
   "cell_type": "code",
   "execution_count": 3,
   "id": "c96ece61",
   "metadata": {},
   "outputs": [],
   "source": [
    "from architectures.EquivariantGNN.Models.general_gnn import GeneralGNN"
   ]
  },
  {
   "cell_type": "markdown",
   "id": "df0b63da",
   "metadata": {},
   "source": [
    "## Load model"
   ]
  },
  {
   "cell_type": "code",
   "execution_count": 4,
   "id": "4879f9ab",
   "metadata": {},
   "outputs": [],
   "source": [
    "with open(\"configs/pn_general_gnn_config.yaml\") as f:\n",
    "        hparams = yaml.load(f, Loader=yaml.FullLoader)"
   ]
  },
  {
   "cell_type": "code",
   "execution_count": 5,
   "id": "e32d6a1a",
   "metadata": {},
   "outputs": [],
   "source": [
    "hparams[\"data_split\"] = [1,100,1]\n",
    "model = GeneralGNN(hparams)"
   ]
  },
  {
   "cell_type": "code",
   "execution_count": 6,
   "id": "49bd1f88",
   "metadata": {},
   "outputs": [
    {
     "name": "stdout",
     "output_type": "stream",
     "text": [
      "Loading data...\n",
      "Building datasets...\n"
     ]
    }
   ],
   "source": [
    "model.setup(stage=\"fit\")"
   ]
  },
  {
   "cell_type": "code",
   "execution_count": 7,
   "id": "0d5ab208",
   "metadata": {},
   "outputs": [],
   "source": [
    "dataloader = model.val_dataloader()"
   ]
  },
  {
   "cell_type": "markdown",
   "id": "865757ab",
   "metadata": {},
   "source": [
    "## Run Equivariance Testing"
   ]
  },
  {
   "cell_type": "markdown",
   "id": "b219e76d",
   "metadata": {},
   "source": [
    "1. Load in an event\n",
    "2. Run event through and get output\n",
    "2. Build a Gamma generator\n",
    "3. Apply Gamma to event"
   ]
  },
  {
   "cell_type": "markdown",
   "id": "d623e712",
   "metadata": {},
   "source": [
    "### Model Def"
   ]
  },
  {
   "cell_type": "code",
   "execution_count": 8,
   "id": "c52f1bdf",
   "metadata": {
    "code_folding": []
   },
   "outputs": [],
   "source": [
    "from torch_geometric.nn import MessagePassing\n",
    "from torch.nn import Sequential as Seq, Linear, ReLU\n",
    "from torch_geometric.nn import global_mean_pool\n",
    "\n",
    "from torch import nn\n",
    "import torch\n",
    "import torch.nn.functional as F\n",
    "from torch_cluster import knn_graph\n",
    "\n",
    "from architectures.EquivariantGNN.utils import make_mlp, get_fully_connected_edges\n",
    "from architectures.EquivariantGNN.Models.model_utils import compute_vector_invariants, get_minkowski_distance, get_scalar_product\n",
    "from architectures.EquivariantGNN.Models.general_gnn import GeneralConv\n",
    "   \n",
    "\n",
    "class SkipGeneralGNN(nn.Module):\n",
    "    \"\"\"\n",
    "    The main network used for Lorentz group equivariance consisting of several layers of L_GCLs\n",
    "    \"\"\"\n",
    "\n",
    "    def __init__(self, hparams):\n",
    "        \"\"\"\n",
    "        Sets up the equivariant network and creates the necessary L_GCL layers\n",
    "\n",
    "        :param input_feature_dim: The amount of numbers needed to specify a feature inputted into the LEGNN\n",
    "        :param message_dim: The amount of numbers needed to specify a message passed through the LEGNN\n",
    "        :param output_feature_dim: The amount of numbers needed to specify the updated feature after passing through the LEGNN\n",
    "        :param edge_feature_dim: The amount of numbers needed to specify an edge attribute a_{ij}\n",
    "        :param device: Specification on whether the cpu or gpu is to be used\n",
    "        :param activation: The activation function used as the main non-linearity throughout the LEGNN\n",
    "        :param n_layers: The number of layers the LEGNN network has\n",
    "        \"\"\"\n",
    "\n",
    "        super(SkipGeneralGNN, self).__init__()\n",
    "        torch.autograd.set_detect_anomaly(True)\n",
    "        self.hparams = hparams\n",
    "        self.message_dim = hparams[\"message_dim\"]\n",
    "        self.activation = hparams[\"activation\"]\n",
    "        self.n_graph_iters = hparams[\"n_graph_iters\"]\n",
    "        self.equivariant = hparams[\"equivariant\"]\n",
    "        self.graph_construction = hparams[\"graph_construction\"]\n",
    "        self.k = hparams[\"k\"]\n",
    "        self.concat_output = hparams[\"concat_output\"]\n",
    "        \n",
    "        self.scalars = [] if hparams[\"scalars\"] is None else hparams[\"scalars\"]\n",
    "        \n",
    "        if (type(self.message_dim) is int):\n",
    "            self.message_dim = [self.message_dim] * self.n_graph_iters\n",
    "        elif (len(self.message_dim) == 1):\n",
    "            self.message_dim = self.message_dim * self.n_graph_iters\n",
    "        else:\n",
    "            self.n_graph_iters = len(self.message_dim)\n",
    "        \n",
    "        propagate_vector_dims = hparams[\"vector_dim\"] if self.equivariant else 0\n",
    "#         propagate_invariant_dims = hparams[\"invariant_vector_dim\"] if self.equivariant else 0\n",
    "        \n",
    "        self.convolution_layers = nn.ModuleList(\n",
    "            [GeneralConv(\n",
    "                  scalar_dim = len(self.scalars) + hparams[\"scalar_dim\"], \n",
    "                  message_dim = self.message_dim[0], \n",
    "                  invariant_vector_dim = hparams[\"invariant_vector_dim\"], \n",
    "                  vector_dim = hparams[\"vector_dim\"],\n",
    "                  hparams = hparams)] \n",
    "            + [GeneralConv(\n",
    "                  scalar_dim = sum(self.message_dim[:i]) + len(self.scalars) + hparams[\"scalar_dim\"], \n",
    "                  message_dim = self.message_dim[i], \n",
    "                  invariant_vector_dim = hparams[\"invariant_vector_dim\"], \n",
    "                  vector_dim = propagate_vector_dims,\n",
    "                  hparams = hparams)\n",
    "                for i in range(1, self.n_graph_iters)\n",
    "            ]).double()\n",
    "        \n",
    "        fully_connected_dim = sum(self.message_dim) + len(self.scalars) + hparams[\"scalar_dim\"]\n",
    "        \n",
    "        # The graph classifier outputs a final score (without sigmoid!)\n",
    "        self.graph_classifier = nn.Sequential(\n",
    "            make_mlp(fully_connected_dim, [hparams[\"final_dim\"]]),\n",
    "            nn.Dropout(hparams[\"dropout\"]),\n",
    "            make_mlp(hparams[\"final_dim\"], [1], output_activation=None)).double()\n",
    "    \n",
    "    def get_node_features(self, batch):\n",
    "        \n",
    "        # Get node vector\n",
    "        v = batch[self.hparams[\"vector\"]]\n",
    "        \n",
    "        # Get all scalars\n",
    "        s = [batch[feature].unsqueeze(-1) \n",
    "                   if len(batch[feature].shape)==1 \n",
    "                   else batch[feature] for feature in self.scalars]\n",
    "        # Add vector invariants to the list of scalars\n",
    "        s += [compute_vector_invariants(v).unsqueeze(-1)]\n",
    "        \n",
    "        # Handle some shaping issues\n",
    "        s = torch.cat(s, dim=-1)\n",
    "        if len(s.shape)==1: s=s.unsqueeze(1)\n",
    "        \n",
    "#         return s.float(), v.float()\n",
    "        return s, v\n",
    "            \n",
    "    def forward(self, batch):\n",
    "        \n",
    "        s, v = self.get_node_features(batch)\n",
    "        \n",
    "        for i in range(self.n_graph_iters):                \n",
    "            \n",
    "            s_initial = s # For skip connection\n",
    "            s, v = self.convolution_layers[i](s, v, batch.edge_index, edge_attribute = None)\n",
    "            s = F.relu(torch.cat([s, s_initial], dim=-1))\n",
    "            \n",
    "            if self.graph_construction == \"dynamic_knn\":\n",
    "                batch.edge_index = knn_graph(s, self.k, batch.batch)\n",
    "        \n",
    "        global_average = global_mean_pool(s, batch.batch)\n",
    "        \n",
    "        # Final layers\n",
    "        output = self.graph_classifier(global_average)\n",
    "        \n",
    "        return output\n",
    "    "
   ]
  },
  {
   "cell_type": "markdown",
   "id": "98c74fa2",
   "metadata": {},
   "source": [
    "### Build definitions"
   ]
  },
  {
   "cell_type": "code",
   "execution_count": 9,
   "id": "510d3699",
   "metadata": {},
   "outputs": [],
   "source": [
    "def get_rotation(angle, dim1, dim2):\n",
    "    \n",
    "    matrix = np.eye(4)\n",
    "    rotation = np.array([[np.sin(angle), np.cos(angle)], [-np.cos(angle), np.sin(angle)]])\n",
    "    matrix[dim1, [dim1, dim2]] = rotation[0]\n",
    "    matrix[dim2, [dim1, dim2]] = rotation[1]\n",
    "    \n",
    "    return torch.from_numpy(matrix)"
   ]
  },
  {
   "cell_type": "code",
   "execution_count": 10,
   "id": "a0329ad7",
   "metadata": {},
   "outputs": [],
   "source": [
    "def get_boost(rapidity, dim):\n",
    "    matrix = np.eye(4)\n",
    "    boost = np.array([[np.cosh(rapidity), -np.sinh(rapidity)], [-np.sinh(rapidity), np.cosh(rapidity)]])\n",
    "    matrix[0, [0, dim]] = boost[0]\n",
    "    matrix[dim, [0, dim]] = boost[1]\n",
    "    \n",
    "    return torch.from_numpy(matrix)"
   ]
  },
  {
   "cell_type": "code",
   "execution_count": 11,
   "id": "15f87770",
   "metadata": {},
   "outputs": [],
   "source": [
    "model = SkipGeneralGNN(hparams).to(\"cuda\")"
   ]
  },
  {
   "cell_type": "code",
   "execution_count": 19,
   "id": "b991359b",
   "metadata": {
    "code_folding": []
   },
   "outputs": [
    {
     "name": "stdout",
     "output_type": "stream",
     "text": [
      "CPU times: user 478 ms, sys: 992 ms, total: 1.47 s\n",
      "Wall time: 18.6 s\n"
     ]
    }
   ],
   "source": [
    "%%time\n",
    "errors = []\n",
    "angles = np.arange(0, 2*np.pi, 0.5)\n",
    "\n",
    "for angle in angles:\n",
    "    \n",
    "    rot = get_rotation(angle, 1, 2).to(\"cuda\")\n",
    "    \n",
    "    model = SkipGeneralGNN(hparams).to(\"cuda\")\n",
    "    model.eval()\n",
    "    with torch.no_grad():\n",
    "        for batch in dataloader:\n",
    "            X = batch.x.to(\"cuda\")\n",
    "            X = torch.rand(len(X), 4).to(\"cuda\").double()\n",
    "            batch.x = X\n",
    "            output1 = model(batch.to(\"cuda\"))\n",
    "\n",
    "            \n",
    "            batch.x = torch.inner(X, rot)\n",
    "            output2 = model(batch.to(\"cuda\"))\n",
    "            \n",
    "            errors.append(((output1 - output2).mean() / output1.mean()).abs().cpu())"
   ]
  },
  {
   "cell_type": "code",
   "execution_count": 20,
   "id": "bebff2f0",
   "metadata": {},
   "outputs": [
    {
     "data": {
      "text/plain": [
       "[<matplotlib.lines.Line2D at 0x2aabaf7df9d0>]"
      ]
     },
     "execution_count": 20,
     "metadata": {},
     "output_type": "execute_result"
    },
    {
     "data": {
      "image/png": "[encoded data removed]",
      "text/plain": [
       "<Figure size 432x288 with 1 Axes>"
      ]
     },
     "metadata": {
      "needs_background": "light"
     },
     "output_type": "display_data"
    }
   ],
   "source": [
    "plt.plot(angles, np.array(errors))"
   ]
  },
  {
   "cell_type": "code",
   "execution_count": null,
   "id": "12fa4176",
   "metadata": {},
   "outputs": [],
   "source": []
  },
  {
   "cell_type": "code",
   "execution_count": 157,
   "id": "62023819",
   "metadata": {
    "code_folding": []
   },
   "outputs": [
    {
     "name": "stdout",
     "output_type": "stream",
     "text": [
      "CPU times: user 12 s, sys: 14.8 s, total: 26.8 s\n",
      "Wall time: 5min 16s\n"
     ]
    }
   ],
   "source": [
    "%%time\n",
    "\n",
    "errors = []\n",
    "rapidities = np.arange(0, 10, 0.5)\n",
    "tests = 10\n",
    "\n",
    "for rapidity in rapidities:\n",
    "    \n",
    "    boost = get_boost(rapidity, 2).to(\"cuda\")\n",
    "    \n",
    "    sub_errors = []\n",
    "    for test in range(tests):\n",
    "        \n",
    "        model = SkipGeneralGNN(hparams).to(\"cuda\")\n",
    "        model.eval()\n",
    "        with torch.no_grad():\n",
    "            for batch in dataloader:\n",
    "                output1 = model(batch.to(\"cuda\"))\n",
    "\n",
    "                X = batch.x.to(\"cuda\")\n",
    "                batch.x = torch.inner(X, boost)\n",
    "                output2 = model(batch.to(\"cuda\"))\n",
    "                \n",
    "                sub_errors.append(((output1 - output2).mean() / output1.mean()).abs().cpu())\n",
    "\n",
    "    errors.append(sub_errors)"
   ]
  },
  {
   "cell_type": "code",
   "execution_count": 157,
   "id": "786c0d07",
   "metadata": {
    "code_folding": []
   },
   "outputs": [
    {
     "name": "stdout",
     "output_type": "stream",
     "text": [
      "CPU times: user 12 s, sys: 14.8 s, total: 26.8 s\n",
      "Wall time: 5min 16s\n"
     ]
    }
   ],
   "source": [
    "%%time\n",
    "\n",
    "errors = []\n",
    "rapidities = np.arange(0, 10, 0.5)\n",
    "tests = 10\n",
    "\n",
    "for rapidity in rapidities:\n",
    "    \n",
    "    boost = get_boost(rapidity, 2).to(\"cuda\")\n",
    "    \n",
    "    sub_errors = []\n",
    "    for test in range(tests):\n",
    "        \n",
    "        model = SkipGeneralGNN(hparams).to(\"cuda\")\n",
    "        model.eval()\n",
    "        with torch.no_grad():\n",
    "            for batch in dataloader:\n",
    "                output1 = model(batch.to(\"cuda\"))\n",
    "\n",
    "                X = batch.x.to(\"cuda\")\n",
    "                batch.x = torch.inner(torch.inner(X, rot), boost)\n",
    "                output2 = model(batch.to(\"cuda\"))\n",
    "                \n",
    "                sub_errors.append(((output1 - output2).mean() / output1.mean()).abs().cpu())\n",
    "\n",
    "    errors.append(sub_errors)"
   ]
  },
  {
   "cell_type": "code",
   "execution_count": 158,
   "id": "0e046cb2",
   "metadata": {},
   "outputs": [],
   "source": [
    "errors_mean, errors_std = np.array(errors).mean(axis=1), np.array(errors).std(axis=1)"
   ]
  },
  {
   "cell_type": "code",
   "execution_count": 163,
   "id": "2f3bac1a",
   "metadata": {},
   "outputs": [],
   "source": [
    "errors_max = np.array(errors).max(axis=1)"
   ]
  },
  {
   "cell_type": "code",
   "execution_count": 162,
   "id": "88f0cc3d",
   "metadata": {},
   "outputs": [
    {
     "data": {
      "text/plain": [
       "[[tensor(2.6370e-14, dtype=torch.float64),\n",
       "  tensor(1.1299e-14, dtype=torch.float64),\n",
       "  tensor(1.0729e-14, dtype=torch.float64),\n",
       "  tensor(6.6424e-15, dtype=torch.float64),\n",
       "  tensor(6.6607e-15, dtype=torch.float64),\n",
       "  tensor(7.5856e-14, dtype=torch.float64),\n",
       "  tensor(6.9367e-14, dtype=torch.float64),\n",
       "  tensor(1.1377e-13, dtype=torch.float64),\n",
       "  tensor(6.7003e-14, dtype=torch.float64),\n",
       "  tensor(1.7111e-14, dtype=torch.float64)],\n",
       " [tensor(1.0062e-13, dtype=torch.float64),\n",
       "  tensor(5.6990e-13, dtype=torch.float64),\n",
       "  tensor(3.0069e-13, dtype=torch.float64),\n",
       "  tensor(7.1121e-14, dtype=torch.float64),\n",
       "  tensor(8.5616e-14, dtype=torch.float64),\n",
       "  tensor(1.8682e-13, dtype=torch.float64),\n",
       "  tensor(1.0860e-13, dtype=torch.float64),\n",
       "  tensor(9.3152e-14, dtype=torch.float64),\n",
       "  tensor(1.7261e-13, dtype=torch.float64),\n",
       "  tensor(7.4111e-14, dtype=torch.float64)],\n",
       " [tensor(1.4921e-14, dtype=torch.float64),\n",
       "  tensor(8.6944e-14, dtype=torch.float64),\n",
       "  tensor(9.3308e-14, dtype=torch.float64),\n",
       "  tensor(9.0300e-14, dtype=torch.float64),\n",
       "  tensor(7.6906e-13, dtype=torch.float64),\n",
       "  tensor(1.9110e-14, dtype=torch.float64),\n",
       "  tensor(8.4355e-14, dtype=torch.float64),\n",
       "  tensor(9.6888e-14, dtype=torch.float64),\n",
       "  tensor(4.2565e-13, dtype=torch.float64),\n",
       "  tensor(6.1001e-14, dtype=torch.float64)],\n",
       " [tensor(2.9090e-13, dtype=torch.float64),\n",
       "  tensor(1.9887e-13, dtype=torch.float64),\n",
       "  tensor(6.5893e-14, dtype=torch.float64),\n",
       "  tensor(7.6068e-14, dtype=torch.float64),\n",
       "  tensor(5.9812e-13, dtype=torch.float64),\n",
       "  tensor(1.2716e-13, dtype=torch.float64),\n",
       "  tensor(5.0438e-13, dtype=torch.float64),\n",
       "  tensor(1.0073e-15, dtype=torch.float64),\n",
       "  tensor(1.7921e-12, dtype=torch.float64),\n",
       "  tensor(1.1078e-11, dtype=torch.float64)],\n",
       " [tensor(2.2606e-12, dtype=torch.float64),\n",
       "  tensor(4.4051e-12, dtype=torch.float64),\n",
       "  tensor(7.4718e-13, dtype=torch.float64),\n",
       "  tensor(2.4512e-12, dtype=torch.float64),\n",
       "  tensor(4.3782e-12, dtype=torch.float64),\n",
       "  tensor(2.5798e-11, dtype=torch.float64),\n",
       "  tensor(1.4323e-12, dtype=torch.float64),\n",
       "  tensor(3.0366e-13, dtype=torch.float64),\n",
       "  tensor(1.4752e-12, dtype=torch.float64),\n",
       "  tensor(9.3178e-13, dtype=torch.float64)],\n",
       " [tensor(3.8186e-12, dtype=torch.float64),\n",
       "  tensor(4.0501e-13, dtype=torch.float64),\n",
       "  tensor(1.0596e-12, dtype=torch.float64),\n",
       "  tensor(5.1810e-14, dtype=torch.float64),\n",
       "  tensor(1.1162e-12, dtype=torch.float64),\n",
       "  tensor(5.0045e-12, dtype=torch.float64),\n",
       "  tensor(5.8561e-12, dtype=torch.float64),\n",
       "  tensor(3.4847e-12, dtype=torch.float64),\n",
       "  tensor(3.3838e-12, dtype=torch.float64),\n",
       "  tensor(7.6593e-11, dtype=torch.float64)],\n",
       " [tensor(4.0037e-11, dtype=torch.float64),\n",
       "  tensor(1.3672e-11, dtype=torch.float64),\n",
       "  tensor(2.2036e-11, dtype=torch.float64),\n",
       "  tensor(3.9903e-11, dtype=torch.float64),\n",
       "  tensor(5.0737e-11, dtype=torch.float64),\n",
       "  tensor(1.8447e-11, dtype=torch.float64),\n",
       "  tensor(3.0096e-11, dtype=torch.float64),\n",
       "  tensor(1.2927e-10, dtype=torch.float64),\n",
       "  tensor(1.9799e-11, dtype=torch.float64),\n",
       "  tensor(4.4912e-11, dtype=torch.float64)],\n",
       " [tensor(9.5893e-11, dtype=torch.float64),\n",
       "  tensor(1.8899e-11, dtype=torch.float64),\n",
       "  tensor(2.4082e-11, dtype=torch.float64),\n",
       "  tensor(3.3438e-10, dtype=torch.float64),\n",
       "  tensor(9.8090e-11, dtype=torch.float64),\n",
       "  tensor(2.3480e-10, dtype=torch.float64),\n",
       "  tensor(2.0823e-11, dtype=torch.float64),\n",
       "  tensor(7.6855e-12, dtype=torch.float64),\n",
       "  tensor(1.1136e-11, dtype=torch.float64),\n",
       "  tensor(3.7713e-11, dtype=torch.float64)],\n",
       " [tensor(3.9218e-11, dtype=torch.float64),\n",
       "  tensor(5.5636e-11, dtype=torch.float64),\n",
       "  tensor(2.9692e-10, dtype=torch.float64),\n",
       "  tensor(2.7555e-10, dtype=torch.float64),\n",
       "  tensor(3.0364e-10, dtype=torch.float64),\n",
       "  tensor(6.2437e-11, dtype=torch.float64),\n",
       "  tensor(2.8016e-09, dtype=torch.float64),\n",
       "  tensor(9.9317e-11, dtype=torch.float64),\n",
       "  tensor(6.1671e-09, dtype=torch.float64),\n",
       "  tensor(4.2357e-11, dtype=torch.float64)],\n",
       " [tensor(2.3311e-11, dtype=torch.float64),\n",
       "  tensor(4.3615e-10, dtype=torch.float64),\n",
       "  tensor(5.6437e-10, dtype=torch.float64),\n",
       "  tensor(7.6305e-12, dtype=torch.float64),\n",
       "  tensor(3.2483e-11, dtype=torch.float64),\n",
       "  tensor(3.5851e-11, dtype=torch.float64),\n",
       "  tensor(1.2875e-10, dtype=torch.float64),\n",
       "  tensor(2.6984e-10, dtype=torch.float64),\n",
       "  tensor(2.8728e-10, dtype=torch.float64),\n",
       "  tensor(1.2135e-09, dtype=torch.float64)],\n",
       " [tensor(1.1795e-09, dtype=torch.float64),\n",
       "  tensor(3.3857e-11, dtype=torch.float64),\n",
       "  tensor(9.1719e-09, dtype=torch.float64),\n",
       "  tensor(1.2066e-09, dtype=torch.float64),\n",
       "  tensor(1.5170e-09, dtype=torch.float64),\n",
       "  tensor(2.5159e-09, dtype=torch.float64),\n",
       "  tensor(3.5842e-10, dtype=torch.float64),\n",
       "  tensor(3.7422e-10, dtype=torch.float64),\n",
       "  tensor(1.8633e-09, dtype=torch.float64),\n",
       "  tensor(2.2493e-10, dtype=torch.float64)],\n",
       " [tensor(3.6367e-09, dtype=torch.float64),\n",
       "  tensor(8.4432e-10, dtype=torch.float64),\n",
       "  tensor(3.2128e-10, dtype=torch.float64),\n",
       "  tensor(1.0304e-09, dtype=torch.float64),\n",
       "  tensor(1.6183e-09, dtype=torch.float64),\n",
       "  tensor(3.9150e-10, dtype=torch.float64),\n",
       "  tensor(6.8535e-11, dtype=torch.float64),\n",
       "  tensor(1.1110e-10, dtype=torch.float64),\n",
       "  tensor(3.1821e-09, dtype=torch.float64),\n",
       "  tensor(4.8922e-09, dtype=torch.float64)],\n",
       " [tensor(1.0434e-08, dtype=torch.float64),\n",
       "  tensor(7.4063e-10, dtype=torch.float64),\n",
       "  tensor(6.1643e-09, dtype=torch.float64),\n",
       "  tensor(6.6276e-09, dtype=torch.float64),\n",
       "  tensor(5.2065e-09, dtype=torch.float64),\n",
       "  tensor(4.3926e-10, dtype=torch.float64),\n",
       "  tensor(3.1008e-09, dtype=torch.float64),\n",
       "  tensor(5.2146e-09, dtype=torch.float64),\n",
       "  tensor(7.5146e-09, dtype=torch.float64),\n",
       "  tensor(2.2773e-09, dtype=torch.float64)],\n",
       " [tensor(3.8536e-08, dtype=torch.float64),\n",
       "  tensor(1.3540e-08, dtype=torch.float64),\n",
       "  tensor(5.5035e-08, dtype=torch.float64),\n",
       "  tensor(2.4198e-08, dtype=torch.float64),\n",
       "  tensor(1.6711e-07, dtype=torch.float64),\n",
       "  tensor(3.1963e-06, dtype=torch.float64),\n",
       "  tensor(1.2600e-08, dtype=torch.float64),\n",
       "  tensor(2.8779e-08, dtype=torch.float64),\n",
       "  tensor(9.8355e-08, dtype=torch.float64),\n",
       "  tensor(7.5932e-08, dtype=torch.float64)],\n",
       " [tensor(8.2615e-09, dtype=torch.float64),\n",
       "  tensor(6.0450e-08, dtype=torch.float64),\n",
       "  tensor(6.5731e-08, dtype=torch.float64),\n",
       "  tensor(4.0047e-10, dtype=torch.float64),\n",
       "  tensor(6.0778e-08, dtype=torch.float64),\n",
       "  tensor(2.4191e-07, dtype=torch.float64),\n",
       "  tensor(9.6646e-09, dtype=torch.float64),\n",
       "  tensor(4.4639e-09, dtype=torch.float64),\n",
       "  tensor(1.8785e-08, dtype=torch.float64),\n",
       "  tensor(3.1759e-08, dtype=torch.float64)],\n",
       " [tensor(6.6698e-06, dtype=torch.float64),\n",
       "  tensor(1.0841e-07, dtype=torch.float64),\n",
       "  tensor(9.3280e-08, dtype=torch.float64),\n",
       "  tensor(1.1881e-07, dtype=torch.float64),\n",
       "  tensor(1.4200e-07, dtype=torch.float64),\n",
       "  tensor(9.5944e-08, dtype=torch.float64),\n",
       "  tensor(2.5063e-07, dtype=torch.float64),\n",
       "  tensor(6.8204e-08, dtype=torch.float64),\n",
       "  tensor(1.7959e-07, dtype=torch.float64),\n",
       "  tensor(7.3636e-08, dtype=torch.float64)],\n",
       " [tensor(2.1146e-07, dtype=torch.float64),\n",
       "  tensor(4.4247e-08, dtype=torch.float64),\n",
       "  tensor(1.9450e-07, dtype=torch.float64),\n",
       "  tensor(6.0095e-08, dtype=torch.float64),\n",
       "  tensor(2.3738e-08, dtype=torch.float64),\n",
       "  tensor(3.9107e-08, dtype=torch.float64),\n",
       "  tensor(2.0366e-07, dtype=torch.float64),\n",
       "  tensor(5.1442e-08, dtype=torch.float64),\n",
       "  tensor(1.3904e-07, dtype=torch.float64),\n",
       "  tensor(4.0680e-07, dtype=torch.float64)],\n",
       " [tensor(4.3929e-08, dtype=torch.float64),\n",
       "  tensor(1.0242e-06, dtype=torch.float64),\n",
       "  tensor(2.0085e-06, dtype=torch.float64),\n",
       "  tensor(1.0671e-06, dtype=torch.float64),\n",
       "  tensor(2.7784e-07, dtype=torch.float64),\n",
       "  tensor(2.3752e-06, dtype=torch.float64),\n",
       "  tensor(1.3901e-05, dtype=torch.float64),\n",
       "  tensor(7.8664e-07, dtype=torch.float64),\n",
       "  tensor(1.0482e-05, dtype=torch.float64),\n",
       "  tensor(1.6073e-06, dtype=torch.float64)],\n",
       " [tensor(2.1458e-06, dtype=torch.float64),\n",
       "  tensor(3.0286e-05, dtype=torch.float64),\n",
       "  tensor(5.4949e-06, dtype=torch.float64),\n",
       "  tensor(4.7807e-06, dtype=torch.float64),\n",
       "  tensor(1.0766e-07, dtype=torch.float64),\n",
       "  tensor(6.3787e-07, dtype=torch.float64),\n",
       "  tensor(1.7879e-06, dtype=torch.float64),\n",
       "  tensor(1.3212e-06, dtype=torch.float64),\n",
       "  tensor(5.3470e-07, dtype=torch.float64),\n",
       "  tensor(1.5334e-06, dtype=torch.float64)],\n",
       " [tensor(1.4111e-05, dtype=torch.float64),\n",
       "  tensor(7.1999e-06, dtype=torch.float64),\n",
       "  tensor(6.5014e-05, dtype=torch.float64),\n",
       "  tensor(7.2223e-06, dtype=torch.float64),\n",
       "  tensor(8.8098e-06, dtype=torch.float64),\n",
       "  tensor(4.2543e-06, dtype=torch.float64),\n",
       "  tensor(5.2140e-06, dtype=torch.float64),\n",
       "  tensor(4.7035e-06, dtype=torch.float64),\n",
       "  tensor(5.2706e-06, dtype=torch.float64),\n",
       "  tensor(3.5184e-05, dtype=torch.float64)]]"
      ]
     },
     "execution_count": 162,
     "metadata": {},
     "output_type": "execute_result"
    }
   ],
   "source": [
    "errors"
   ]
  },
  {
   "cell_type": "code",
   "execution_count": 161,
   "id": "9018026d",
   "metadata": {},
   "outputs": [
    {
     "data": {
      "text/plain": [
       "array([4.04804584e-14, 1.76323682e-13, 1.74154575e-13, 1.47329475e-12,\n",
       "       4.41831519e-12, 1.00773522e-11, 4.08911115e-11, 8.83503985e-11,\n",
       "       1.01437605e-09, 2.99919115e-10, 1.84455246e-09, 1.60964924e-09,\n",
       "       4.77198493e-09, 3.71039124e-07, 5.02201404e-08, 7.80031194e-07,\n",
       "       1.37409041e-07, 3.35735159e-06, 4.86305363e-06, 1.56982936e-05])"
      ]
     },
     "execution_count": 161,
     "metadata": {},
     "output_type": "execute_result"
    }
   ],
   "source": [
    "errors_mean"
   ]
  },
  {
   "cell_type": "code",
   "execution_count": 159,
   "id": "2f4dea64",
   "metadata": {},
   "outputs": [
    {
     "data": {
      "text/plain": [
       "array([3.59596121e-14, 1.47469798e-13, 2.26842692e-13, 3.24038785e-12,\n",
       "       7.25095646e-12, 2.22509614e-11, 3.17607923e-11, 1.05203335e-10,\n",
       "       1.89390806e-09, 3.54507044e-10, 2.55674725e-09, 1.61376781e-09,\n",
       "       2.98984477e-09, 9.42833098e-07, 6.81987296e-08, 1.96394829e-06,\n",
       "       1.14166589e-07, 4.53358780e-06, 8.63955279e-06, 1.86447814e-05])"
      ]
     },
     "execution_count": 159,
     "metadata": {},
     "output_type": "execute_result"
    }
   ],
   "source": [
    "errors_std"
   ]
  },
  {
   "cell_type": "code",
   "execution_count": 160,
   "id": "bef27a94",
   "metadata": {},
   "outputs": [
    {
     "data": {
      "text/plain": [
       "[<matplotlib.axis.YTick at 0x2aabdc590c90>,\n",
       " <matplotlib.axis.YTick at 0x2aabaffc8590>,\n",
       " <matplotlib.axis.YTick at 0x2aabdd352390>,\n",
       " <matplotlib.axis.YTick at 0x2aabaed7f390>,\n",
       " <matplotlib.axis.YTick at 0x2aabdcbe7690>,\n",
       " <matplotlib.axis.YTick at 0x2aad80acb710>,\n",
       " <matplotlib.axis.YTick at 0x2aabdc0eddd0>,\n",
       " <matplotlib.axis.YTick at 0x2aabaefc9ed0>,\n",
       " <matplotlib.axis.YTick at 0x2aabaefc9750>]"
      ]
     },
     "execution_count": 160,
     "metadata": {},
     "output_type": "execute_result"
    },
    {
     "data": {
      "image/png": "[encoded data removed]",
      "text/plain": [
       "<Figure size 720x432 with 1 Axes>"
      ]
     },
     "metadata": {
      "needs_background": "light"
     },
     "output_type": "display_data"
    }
   ],
   "source": [
    "fig, ax = plt.subplots(1,1, figsize=(10,6))\n",
    "\n",
    "plt.errorbar(rapidities, errors_mean, yerr=errors_std)\n",
    "plt.yscale(\"log\")\n",
    "plt.grid(color = 'green', linestyle = '--', linewidth = 0.5)\n",
    "plt.ylabel(\"Relative Deviation\")\n",
    "plt.xlabel(\"Rapidity\")\n",
    "\n",
    "ax.set_yticks([1e-14, 1e-13, 1e-12, 1e-11, 1e-10, 1e-9, 1e-8, 1e-7, 1e-6])"
   ]
  },
  {
   "cell_type": "code",
   "execution_count": 164,
   "id": "fbb280a1",
   "metadata": {},
   "outputs": [
    {
     "data": {
      "text/plain": [
       "[<matplotlib.axis.YTick at 0x2aabdc6470d0>,\n",
       " <matplotlib.axis.YTick at 0x2aabdd29e350>,\n",
       " <matplotlib.axis.YTick at 0x2aabdd387f50>,\n",
       " <matplotlib.axis.YTick at 0x2aabdd2e0790>,\n",
       " <matplotlib.axis.YTick at 0x2aabdd2e0d90>,\n",
       " <matplotlib.axis.YTick at 0x2aabdd1e8350>,\n",
       " <matplotlib.axis.YTick at 0x2aabdd1e8910>,\n",
       " <matplotlib.axis.YTick at 0x2aabdd1e8e90>,\n",
       " <matplotlib.axis.YTick at 0x2aabdd1e83d0>]"
      ]
     },
     "execution_count": 164,
     "metadata": {},
     "output_type": "execute_result"
    },
    {
     "data": {
      "image/png": "[encoded data removed]",
      "text/plain": [
       "<Figure size 720x432 with 1 Axes>"
      ]
     },
     "metadata": {
      "needs_background": "light"
     },
     "output_type": "display_data"
    }
   ],
   "source": [
    "fig, ax = plt.subplots(1,1, figsize=(10,6))\n",
    "\n",
    "plt.errorbar(rapidities, errors_max, yerr=errors_std)\n",
    "plt.yscale(\"log\")\n",
    "plt.grid(color = 'green', linestyle = '--', linewidth = 0.5)\n",
    "plt.ylabel(\"Relative Deviation\")\n",
    "plt.xlabel(\"Rapidity\")\n",
    "\n",
    "ax.set_yticks([1e-14, 1e-13, 1e-12, 1e-11, 1e-10, 1e-9, 1e-8, 1e-7, 1e-6])"
   ]
  },
  {
   "cell_type": "code",
   "execution_count": null,
   "id": "ed2abfce",
   "metadata": {},
   "outputs": [],
   "source": []
  },
  {
   "cell_type": "code",
   "execution_count": null,
   "id": "770572dc",
   "metadata": {},
   "outputs": [],
   "source": []
  },
  {
   "cell_type": "code",
   "execution_count": null,
   "id": "6de2d360",
   "metadata": {},
   "outputs": [],
   "source": []
  },
  {
   "cell_type": "code",
   "execution_count": null,
   "id": "a5e0fdff",
   "metadata": {},
   "outputs": [],
   "source": []
  },
  {
   "cell_type": "code",
   "execution_count": null,
   "id": "b44aee3c",
   "metadata": {},
   "outputs": [],
   "source": []
  },
  {
   "cell_type": "code",
   "execution_count": null,
   "id": "a428f34e",
   "metadata": {},
   "outputs": [],
   "source": []
  },
  {
   "cell_type": "code",
   "execution_count": null,
   "id": "0d52f2e2",
   "metadata": {},
   "outputs": [],
   "source": []
  },
  {
   "cell_type": "code",
   "execution_count": null,
   "id": "362d334e",
   "metadata": {},
   "outputs": [],
   "source": []
  },
  {
   "cell_type": "code",
   "execution_count": null,
   "id": "b07bce40",
   "metadata": {},
   "outputs": [],
   "source": []
  },
  {
   "cell_type": "code",
   "execution_count": null,
   "id": "89476c93",
   "metadata": {},
   "outputs": [],
   "source": []
  },
  {
   "cell_type": "code",
   "execution_count": null,
   "id": "1ac52331",
   "metadata": {},
   "outputs": [],
   "source": []
  },
  {
   "cell_type": "code",
   "execution_count": null,
   "id": "07849054",
   "metadata": {},
   "outputs": [],
   "source": []
  },
  {
   "cell_type": "code",
   "execution_count": null,
   "id": "2b4a4593",
   "metadata": {},
   "outputs": [],
   "source": []
  }
 ],
 "metadata": {
  "kernelspec": {
   "display_name": "ExatrkxTest",
   "language": "python",
   "name": "exatrkx-test"
  },
  "language_info": {
   "codemirror_mode": {
    "name": "ipython",
    "version": 3
   },
   "file_extension": ".py",
   "mimetype": "text/x-python",
   "name": "python",
   "nbconvert_exporter": "python",
   "pygments_lexer": "ipython3",
   "version": "3.7.7"
  }
 },
 "nbformat": 4,
 "nbformat_minor": 5
}
