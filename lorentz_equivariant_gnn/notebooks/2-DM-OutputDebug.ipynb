{
 "cells": [
  {
   "cell_type": "markdown",
   "id": "98815d97",
   "metadata": {},
   "source": [
    "# Debug the Training Scheme"
   ]
  },
  {
   "cell_type": "code",
   "execution_count": 1,
   "id": "faeefbd7",
   "metadata": {},
   "outputs": [],
   "source": [
    "%load_ext autoreload\n",
    "%autoreload 2"
   ]
  },
  {
   "cell_type": "code",
   "execution_count": 5,
   "id": "fa002468-50bd-46a5-b467-ed862e1547f2",
   "metadata": {},
   "outputs": [],
   "source": [
    "import sys\n",
    "import os\n",
    "import yaml\n",
    "\n",
    "import torch\n",
    "import pandas as pd\n",
    "import matplotlib.pyplot as plt\n",
    "import numpy as np\n",
    "from pytorch_lightning import Trainer\n",
    "from pytorch_lightning import LightningModule\n",
    "from pytorch_lightning.loggers import TensorBoardLogger, WandbLogger\n",
    "\n",
    "sys.path.append(\"../\")\n",
    "device = \"cuda\" if torch.cuda.is_available() else \"cpu\""
   ]
  },
  {
   "cell_type": "code",
   "execution_count": 6,
   "id": "c96ece61",
   "metadata": {},
   "outputs": [],
   "source": [
    "from architectures.EquivariantGNN.Models.legnn import LEGNN"
   ]
  },
  {
   "cell_type": "markdown",
   "id": "d2079e67",
   "metadata": {},
   "source": [
    "## Debug Model"
   ]
  },
  {
   "cell_type": "code",
   "execution_count": null,
   "id": "ed9b2707",
   "metadata": {
    "code_folding": [
     0,
     2,
     11,
     15,
     21,
     27,
     33,
     88,
     124
    ]
   },
   "outputs": [],
   "source": [
    "class EGNNBase(LightningModule):\n",
    "    \n",
    "    def __init__(self, hparams):\n",
    "        super().__init__()\n",
    "        \n",
    "        \"\"\"\n",
    "        Initialise the Lightning Module that can scan over different Equivariant GNN training regimes\n",
    "        \"\"\"\n",
    "        # Assign hyperparameters\n",
    "        self.save_hyperparameters(hparams)\n",
    "\n",
    "    def setup(self, stage):\n",
    "        # Handle any subset of [train, val, test] data split, assuming that ordering\n",
    "        self.trainset, self.valset = load_datasets(self.hparams[\"input_dir\"], self.hparams[\"data_split\"])\n",
    "\n",
    "    def train_dataloader(self):\n",
    "        if self.trainset is not None:\n",
    "            return DataLoader(self.trainset, batch_size=1, num_workers=1)\n",
    "        else:\n",
    "            return None\n",
    "\n",
    "    def val_dataloader(self):\n",
    "        if self.valset is not None:\n",
    "            return DataLoader(self.valset, batch_size=1, num_workers=1)\n",
    "        else:\n",
    "            return None\n",
    "\n",
    "    def test_dataloader(self):\n",
    "        if self.testset is not None:\n",
    "            return DataLoader(self.testset, batch_size=1, num_workers=1)\n",
    "        else:\n",
    "            return None\n",
    "\n",
    "    def configure_optimizers(self):\n",
    "        optimizer = [\n",
    "            torch.optim.AdamW(\n",
    "                self.parameters(),\n",
    "                lr=(self.hparams[\"lr\"]),\n",
    "                betas=(0.9, 0.999),\n",
    "                eps=1e-08,\n",
    "                amsgrad=True,\n",
    "            )\n",
    "        ]\n",
    "        scheduler = [\n",
    "            {\n",
    "                \"scheduler\": torch.optim.lr_scheduler.StepLR(\n",
    "                    optimizer[0],\n",
    "                    step_size=self.hparams[\"patience\"],\n",
    "                    gamma=self.hparams[\"factor\"],\n",
    "                ),\n",
    "                \"interval\": \"epoch\",\n",
    "                \"frequency\": 1,\n",
    "            }\n",
    "        ]\n",
    "        return optimizer, scheduler\n",
    "\n",
    "    def training_step(self, batch, batch_idx):\n",
    "\n",
    "        p, y = torch.squeeze(batch[\"p\"]), batch[\"y\"]\n",
    "\n",
    "        n_nodes = p.size()[0]\n",
    "\n",
    "        edges = get_edges(n_nodes)\n",
    "        row, column = edges\n",
    "\n",
    "        h, _ = compute_radials(edges, p)  # torch.zeros(n_nodes, 1)\n",
    "\n",
    "        output, x = self(h, p, edges)\n",
    "\n",
    "        # output, _ = L_GCL.compute_radials(edges, x)\n",
    "        # output = torch.sigmoid(torch.mean(output).unsqueeze(0))\n",
    "\n",
    "        output = torch.mean(output)\n",
    "        output = torch.sigmoid(output)\n",
    "        output = output.unsqueeze(0)\n",
    "\n",
    "        loss = F.binary_cross_entropy(output, y.float())\n",
    "\n",
    "        prediction = output.round()\n",
    "        \n",
    "        tp = (prediction == y).sum().item()\n",
    "        t = y.sum().item()\n",
    "        acc = tp / max(t, 1)\n",
    "        \n",
    "        self.log_dict({\"train_loss\": loss, \"train_acc\": acc})\n",
    "\n",
    "        return loss\n",
    "\n",
    "    def validation_step(self, batch, batch_idx):\n",
    "\n",
    "        p, y = torch.squeeze(batch[\"p\"]), batch[\"y\"]\n",
    "        n_nodes = p.size()[0]\n",
    "\n",
    "        edges = get_edges(n_nodes)\n",
    "        row, column = edges\n",
    "\n",
    "        h, _ = compute_radials(edges, p)  # torch.zeros(n_nodes, 1)\n",
    "\n",
    "        output, x = self(h, p, edges)\n",
    "\n",
    "        # output, _ = L_GCL.compute_radials(edges, x)\n",
    "        # output = torch.sigmoid(torch.mean(output).unsqueeze(0))\n",
    "\n",
    "        output = torch.mean(output)\n",
    "        output = torch.sigmoid(output)\n",
    "        output = output.unsqueeze(0)\n",
    "\n",
    "        prediction = output.round()\n",
    "\n",
    "        loss = F.binary_cross_entropy(output, y.float())\n",
    "\n",
    "        tp = (prediction == y).sum().item()\n",
    "        t = y.sum().item()\n",
    "        acc = tp / max(t, 1)\n",
    "\n",
    "        current_lr = self.optimizers().param_groups[0][\"lr\"]\n",
    "        \n",
    "        self.log_dict({\"val_loss\": loss, \"acc\": acc, \"current_lr\": current_lr})\n",
    "\n",
    "\n",
    "        return {\n",
    "            \"loss\": loss\n",
    "        }\n",
    "    \n",
    "    def optimizer_step(\n",
    "        self,\n",
    "        epoch,\n",
    "        batch_idx,\n",
    "        optimizer,\n",
    "        optimizer_idx,\n",
    "        optimizer_closure=None,\n",
    "        on_tpu=False,\n",
    "        using_native_amp=False,\n",
    "        using_lbfgs=False,\n",
    "    ):\n",
    "        # warm up lr\n",
    "        if (self.hparams[\"warmup\"] is not None) and (\n",
    "            self.trainer.global_step < self.hparams[\"warmup\"]\n",
    "        ):\n",
    "            lr_scale = min(\n",
    "                1.0, float(self.trainer.global_step + 1) / self.hparams[\"warmup\"]\n",
    "            )\n",
    "            for pg in optimizer.param_groups:\n",
    "                pg[\"lr\"] = lr_scale * self.hparams[\"lr\"]\n",
    "\n",
    "        # update params\n",
    "        optimizer.step(closure=optimizer_closure)\n",
    "        optimizer.zero_grad()"
   ]
  },
  {
   "cell_type": "markdown",
   "id": "df0b63da",
   "metadata": {},
   "source": [
    "## Load model"
   ]
  },
  {
   "cell_type": "code",
   "execution_count": 7,
   "id": "4879f9ab",
   "metadata": {},
   "outputs": [],
   "source": [
    "with open(\"config.yaml\") as f:\n",
    "        hparams = yaml.load(f, Loader=yaml.FullLoader)"
   ]
  },
  {
   "cell_type": "code",
   "execution_count": 8,
   "id": "e32d6a1a",
   "metadata": {},
   "outputs": [],
   "source": [
    "model = LEGNN(hparams)"
   ]
  },
  {
   "cell_type": "markdown",
   "id": "49ba7fe6",
   "metadata": {},
   "source": [
    "## Debug output"
   ]
  },
  {
   "cell_type": "code",
   "execution_count": 19,
   "id": "04e6ea77",
   "metadata": {},
   "outputs": [],
   "source": [
    "from architectures.EquivariantGNN.data_loader import *\n",
    "from architectures.EquivariantGNN.egnn_base import compute_radials"
   ]
  },
  {
   "cell_type": "code",
   "execution_count": 9,
   "id": "732b8871",
   "metadata": {},
   "outputs": [],
   "source": [
    "model.setup(\"train\")"
   ]
  },
  {
   "cell_type": "code",
   "execution_count": 10,
   "id": "de492909",
   "metadata": {},
   "outputs": [],
   "source": [
    "sample = model.trainset[0]"
   ]
  },
  {
   "cell_type": "code",
   "execution_count": 26,
   "id": "1fb7153f",
   "metadata": {},
   "outputs": [],
   "source": [
    "p, y = torch.squeeze(sample[\"p\"]), sample[\"y\"]"
   ]
  },
  {
   "cell_type": "code",
   "execution_count": 28,
   "id": "8cd415fe",
   "metadata": {},
   "outputs": [
    {
     "name": "stdout",
     "output_type": "stream",
     "text": [
      "CPU times: user 8.08 ms, sys: 51 µs, total: 8.14 ms\n",
      "Wall time: 8.11 ms\n"
     ]
    }
   ],
   "source": [
    "%%time\n",
    "n_nodes = p.size()[0]\n",
    "\n",
    "edges = get_edges(n_nodes)\n",
    "row, column = edges"
   ]
  },
  {
   "cell_type": "code",
   "execution_count": 29,
   "id": "f0099704",
   "metadata": {},
   "outputs": [],
   "source": [
    "h, _ = compute_radials(edges, p)  # torch.zeros(n_nodes, 1)"
   ]
  },
  {
   "cell_type": "code",
   "execution_count": 30,
   "id": "88d9bf0f",
   "metadata": {},
   "outputs": [],
   "source": [
    "output, x = model(h, p, edges)"
   ]
  },
  {
   "cell_type": "code",
   "execution_count": 33,
   "id": "c4b8d31d",
   "metadata": {},
   "outputs": [
    {
     "data": {
      "text/plain": [
       "tensor(-0.0480, grad_fn=<MeanBackward0>)"
      ]
     },
     "execution_count": 33,
     "metadata": {},
     "output_type": "execute_result"
    }
   ],
   "source": [
    "output.mean()"
   ]
  },
  {
   "cell_type": "code",
   "execution_count": 32,
   "id": "12328892",
   "metadata": {},
   "outputs": [
    {
     "data": {
      "text/plain": [
       "tensor([[ 1.3837e+02, -6.7306e+01,  9.3524e+01,  7.6595e+01],\n",
       "        [ 6.2718e+01, -3.1180e+01,  4.2315e+01,  3.4206e+01],\n",
       "        [ 3.9231e+01, -2.4910e+01,  2.0649e+01,  2.2178e+01],\n",
       "        [ 2.9761e+01, -1.7083e+01,  1.8460e+01,  1.5904e+01],\n",
       "        [ 3.3264e+01, -4.6813e+00,  2.3749e+01,  2.2812e+01],\n",
       "        [ 2.6629e+01, -9.1773e+00,  2.2136e+01,  1.1612e+01],\n",
       "        [ 3.2561e+01, -5.7305e+00,  2.0435e+01,  2.4691e+01],\n",
       "        [ 2.8715e+01, -5.7487e+00,  1.9229e+01,  2.0533e+01],\n",
       "        [ 1.6868e+01, -1.0846e+01,  9.0213e+00,  9.2439e+00],\n",
       "        [ 1.4599e+01, -5.9257e+00,  1.2565e+01,  4.4878e+00],\n",
       "        [ 1.4308e+01, -5.1888e+00,  1.2358e+01,  5.0098e+00],\n",
       "        [ 1.6326e+01, -7.9385e+00,  1.0776e+01,  9.3466e+00],\n",
       "        [ 1.3995e+01, -5.1673e+00,  1.1878e+01,  5.2975e+00],\n",
       "        [ 1.3982e+01, -8.8781e+00,  7.3591e+00,  7.9042e+00],\n",
       "        [ 1.3370e+01, -9.2855e+00,  6.7325e+00,  6.8690e+00],\n",
       "        [ 1.5275e+01, -2.9373e+00,  1.0407e+01,  1.0788e+01],\n",
       "        [ 1.0219e+01, -4.4929e+00,  8.3457e+00,  3.8190e+00],\n",
       "        [ 9.7797e+00, -3.3470e+00,  8.6529e+00,  3.0931e+00],\n",
       "        [ 1.0881e+01, -6.3575e+00,  6.2694e+00,  6.2174e+00],\n",
       "        [ 8.0861e+00, -3.9311e+00,  6.6097e+00,  2.4986e+00],\n",
       "        [ 9.0052e+00, -5.6107e+00,  5.0322e+00,  4.9271e+00],\n",
       "        [ 9.1902e+00, -5.2337e+00,  5.1237e+00,  5.5503e+00],\n",
       "        [ 8.7099e+00, -4.4010e+00,  5.7581e+00,  4.8299e+00],\n",
       "        [ 6.8364e+00, -2.6903e+00,  5.8515e+00,  2.2932e+00],\n",
       "        [ 8.7429e+00, -2.2575e+00,  5.9100e+00,  6.0336e+00],\n",
       "        [ 8.9944e+00, -2.1799e+00,  5.9130e+00,  6.4168e+00],\n",
       "        [ 6.4852e+00, -3.2963e+00,  4.9980e+00,  2.4922e+00],\n",
       "        [ 8.2497e+00, -1.4518e+00,  5.1774e+00,  6.2560e+00],\n",
       "        [ 6.2983e+00, -4.1421e+00,  3.3318e+00,  3.3770e+00],\n",
       "        [ 6.1473e+00, -4.6624e+00,  2.5432e+00,  3.0946e+00],\n",
       "        [ 5.5730e+00, -2.3808e+00,  4.7169e+00,  1.7722e+00],\n",
       "        [ 5.8524e+00, -3.7653e+00,  3.4353e+00,  2.8753e+00],\n",
       "        [ 6.9475e+00, -1.5372e+00,  4.6031e+00,  4.9711e+00],\n",
       "        [ 5.3667e+00, -3.3000e+00,  2.9410e+00,  3.0426e+00],\n",
       "        [ 5.3405e+00, -3.0413e+00,  2.9773e+00,  3.2252e+00],\n",
       "        [ 5.2505e+00, -7.3885e-01,  3.7487e+00,  3.6011e+00],\n",
       "        [ 5.1830e+00, -1.0387e+00,  3.4965e+00,  3.6820e+00],\n",
       "        [ 3.6096e+00, -1.4205e+00,  3.0896e+00,  1.2109e+00],\n",
       "        [ 4.0741e+00, -2.9765e+00,  1.5932e+00,  2.2798e+00],\n",
       "        [ 4.8679e+00, -8.8116e-01,  3.0079e+00,  3.7244e+00],\n",
       "        [ 3.1225e+00, -2.3776e+00,  1.5777e+00,  1.2678e+00],\n",
       "        [ 3.3662e+00, -2.0749e+00,  1.8132e+00,  1.9333e+00],\n",
       "        [ 3.2876e+00, -2.1067e+00,  1.7265e+00,  1.8407e+00],\n",
       "        [ 3.8471e+00, -7.7158e-01,  2.5699e+00,  2.7569e+00],\n",
       "        [ 2.9765e+00, -1.9998e+00,  1.6068e+00,  1.5092e+00],\n",
       "        [ 2.8737e+00, -1.9957e+00,  1.4471e+00,  1.4767e+00],\n",
       "        [ 3.1118e+00, -1.8298e+00,  1.6133e+00,  1.9317e+00],\n",
       "        [ 2.6469e+00, -1.3625e+00,  1.9678e+00,  1.1304e+00],\n",
       "        [ 2.2552e+00, -1.1111e+00,  1.9341e+00,  3.3326e-01],\n",
       "        [ 3.2026e+00, -7.4882e-01,  1.9491e+00,  2.4285e+00],\n",
       "        [ 2.1264e+00, -1.0137e+00,  1.5144e+00,  1.0958e+00],\n",
       "        [ 2.7613e+00, -1.0760e+00,  1.3010e+00,  2.1850e+00],\n",
       "        [ 1.6176e+00, -1.1472e+00,  1.1377e+00,  7.9103e-02],\n",
       "        [ 1.6993e+00, -8.1482e-01,  1.3346e+00,  6.6555e-01],\n",
       "        [ 2.2375e+00, -9.4490e-03,  1.5002e+00,  1.6603e+00],\n",
       "        [ 1.5306e+00, -4.8147e-01,  1.2353e+00,  7.6515e-01],\n",
       "        [ 1.5208e+00, -1.1502e+00,  6.0775e-01,  7.8788e-01],\n",
       "        [ 1.2102e+00, -3.8431e-01,  9.2423e-01,  6.8040e-01],\n",
       "        [ 1.1922e+00, -6.4657e-01,  7.5844e-01,  6.5436e-01],\n",
       "        [ 1.3097e+00, -7.0627e-01,  6.1014e-01,  9.1885e-01],\n",
       "        [ 1.0626e+00, -5.1196e-01,  7.6645e-01,  5.2895e-01],\n",
       "        [ 1.1630e+00, -3.6300e-01,  6.9420e-01,  8.5973e-01],\n",
       "        [ 1.1360e+00, -4.6056e-01,  6.2059e-01,  8.3282e-01],\n",
       "        [ 1.0088e+00, -3.3051e-01,  5.7224e-01,  7.6241e-01],\n",
       "        [ 8.4389e-01, -1.6175e-01,  6.1596e-01,  5.5396e-01],\n",
       "        [ 8.5307e-01, -4.5113e-01,  4.2671e-01,  5.8498e-01],\n",
       "        [ 7.0580e-01, -4.2523e-01,  3.9501e-01,  4.0171e-01],\n",
       "        [ 6.3443e-01, -2.4373e-01,  4.3039e-01,  3.9747e-01],\n",
       "        [ 4.5299e-01, -2.8339e-01,  2.1722e-01,  2.7897e-01],\n",
       "        [ 5.8993e-01, -1.2072e-01,  3.1561e-01,  4.8382e-01],\n",
       "        [ 2.3268e-01, -2.1103e-01,  6.4858e-02,  7.3752e-02],\n",
       "        [-8.9354e-05,  9.6632e-05,  4.9568e-05,  8.9204e-05],\n",
       "        [-8.9354e-05,  9.6632e-05,  4.9568e-05,  8.9204e-05],\n",
       "        [-8.9354e-05,  9.6632e-05,  4.9568e-05,  8.9204e-05],\n",
       "        [-8.9354e-05,  9.6632e-05,  4.9568e-05,  8.9204e-05],\n",
       "        [-8.9354e-05,  9.6632e-05,  4.9568e-05,  8.9204e-05],\n",
       "        [-8.9354e-05,  9.6632e-05,  4.9568e-05,  8.9204e-05],\n",
       "        [-8.9354e-05,  9.6632e-05,  4.9568e-05,  8.9204e-05],\n",
       "        [-8.9354e-05,  9.6632e-05,  4.9568e-05,  8.9204e-05],\n",
       "        [-8.9354e-05,  9.6632e-05,  4.9568e-05,  8.9204e-05],\n",
       "        [-8.9354e-05,  9.6632e-05,  4.9568e-05,  8.9204e-05],\n",
       "        [-8.9354e-05,  9.6632e-05,  4.9568e-05,  8.9204e-05],\n",
       "        [-8.9354e-05,  9.6632e-05,  4.9568e-05,  8.9204e-05],\n",
       "        [-8.9354e-05,  9.6632e-05,  4.9568e-05,  8.9204e-05],\n",
       "        [-8.9354e-05,  9.6632e-05,  4.9568e-05,  8.9204e-05],\n",
       "        [-8.9354e-05,  9.6632e-05,  4.9568e-05,  8.9204e-05],\n",
       "        [-8.9354e-05,  9.6632e-05,  4.9568e-05,  8.9204e-05],\n",
       "        [-8.9354e-05,  9.6632e-05,  4.9568e-05,  8.9204e-05],\n",
       "        [-8.9354e-05,  9.6632e-05,  4.9568e-05,  8.9204e-05],\n",
       "        [-8.9354e-05,  9.6632e-05,  4.9568e-05,  8.9204e-05],\n",
       "        [-8.9354e-05,  9.6632e-05,  4.9568e-05,  8.9204e-05],\n",
       "        [-8.9354e-05,  9.6632e-05,  4.9568e-05,  8.9204e-05],\n",
       "        [-8.9354e-05,  9.6632e-05,  4.9568e-05,  8.9204e-05],\n",
       "        [-8.9354e-05,  9.6632e-05,  4.9568e-05,  8.9204e-05],\n",
       "        [-8.9354e-05,  9.6632e-05,  4.9568e-05,  8.9204e-05],\n",
       "        [-8.9354e-05,  9.6632e-05,  4.9568e-05,  8.9204e-05],\n",
       "        [-8.9354e-05,  9.6632e-05,  4.9568e-05,  8.9204e-05],\n",
       "        [-8.9354e-05,  9.6632e-05,  4.9568e-05,  8.9204e-05],\n",
       "        [-8.9354e-05,  9.6632e-05,  4.9568e-05,  8.9204e-05],\n",
       "        [-8.9354e-05,  9.6632e-05,  4.9568e-05,  8.9204e-05],\n",
       "        [-8.9354e-05,  9.6632e-05,  4.9568e-05,  8.9204e-05],\n",
       "        [-8.9354e-05,  9.6632e-05,  4.9568e-05,  8.9204e-05],\n",
       "        [-8.9354e-05,  9.6632e-05,  4.9568e-05,  8.9204e-05],\n",
       "        [-8.9354e-05,  9.6632e-05,  4.9568e-05,  8.9204e-05],\n",
       "        [-8.9354e-05,  9.6632e-05,  4.9568e-05,  8.9204e-05],\n",
       "        [-8.9354e-05,  9.6632e-05,  4.9568e-05,  8.9204e-05],\n",
       "        [-8.9354e-05,  9.6632e-05,  4.9568e-05,  8.9204e-05],\n",
       "        [-8.9354e-05,  9.6632e-05,  4.9568e-05,  8.9204e-05],\n",
       "        [-8.9354e-05,  9.6632e-05,  4.9568e-05,  8.9204e-05],\n",
       "        [-8.9354e-05,  9.6632e-05,  4.9568e-05,  8.9204e-05],\n",
       "        [-8.9354e-05,  9.6632e-05,  4.9568e-05,  8.9204e-05],\n",
       "        [-8.9354e-05,  9.6632e-05,  4.9568e-05,  8.9204e-05],\n",
       "        [-8.9354e-05,  9.6632e-05,  4.9568e-05,  8.9204e-05],\n",
       "        [-8.9354e-05,  9.6632e-05,  4.9568e-05,  8.9204e-05],\n",
       "        [-8.9354e-05,  9.6632e-05,  4.9568e-05,  8.9204e-05],\n",
       "        [-8.9354e-05,  9.6632e-05,  4.9568e-05,  8.9204e-05],\n",
       "        [-8.9354e-05,  9.6632e-05,  4.9568e-05,  8.9204e-05],\n",
       "        [-8.9354e-05,  9.6632e-05,  4.9568e-05,  8.9204e-05],\n",
       "        [-8.9354e-05,  9.6632e-05,  4.9568e-05,  8.9204e-05],\n",
       "        [-8.9354e-05,  9.6632e-05,  4.9568e-05,  8.9204e-05],\n",
       "        [-8.9354e-05,  9.6632e-05,  4.9568e-05,  8.9204e-05],\n",
       "        [-8.9354e-05,  9.6632e-05,  4.9568e-05,  8.9204e-05],\n",
       "        [-8.9354e-05,  9.6632e-05,  4.9568e-05,  8.9204e-05],\n",
       "        [-8.9354e-05,  9.6632e-05,  4.9568e-05,  8.9204e-05],\n",
       "        [-8.9354e-05,  9.6632e-05,  4.9568e-05,  8.9204e-05],\n",
       "        [-8.9354e-05,  9.6632e-05,  4.9568e-05,  8.9204e-05],\n",
       "        [-8.9354e-05,  9.6632e-05,  4.9568e-05,  8.9204e-05],\n",
       "        [-8.9354e-05,  9.6632e-05,  4.9568e-05,  8.9204e-05],\n",
       "        [-8.9354e-05,  9.6632e-05,  4.9568e-05,  8.9204e-05],\n",
       "        [-8.9354e-05,  9.6632e-05,  4.9568e-05,  8.9204e-05],\n",
       "        [-8.9354e-05,  9.6632e-05,  4.9568e-05,  8.9204e-05],\n",
       "        [-8.9354e-05,  9.6632e-05,  4.9568e-05,  8.9204e-05],\n",
       "        [-8.9354e-05,  9.6632e-05,  4.9568e-05,  8.9204e-05],\n",
       "        [-8.9354e-05,  9.6632e-05,  4.9568e-05,  8.9204e-05],\n",
       "        [-8.9354e-05,  9.6632e-05,  4.9568e-05,  8.9204e-05],\n",
       "        [-8.9354e-05,  9.6632e-05,  4.9568e-05,  8.9204e-05],\n",
       "        [-8.9354e-05,  9.6632e-05,  4.9568e-05,  8.9204e-05],\n",
       "        [-8.9354e-05,  9.6632e-05,  4.9568e-05,  8.9204e-05],\n",
       "        [-8.9354e-05,  9.6632e-05,  4.9568e-05,  8.9204e-05],\n",
       "        [-8.9354e-05,  9.6632e-05,  4.9568e-05,  8.9204e-05],\n",
       "        [-8.9354e-05,  9.6632e-05,  4.9568e-05,  8.9204e-05],\n",
       "        [-8.9354e-05,  9.6632e-05,  4.9568e-05,  8.9204e-05],\n",
       "        [-8.9354e-05,  9.6632e-05,  4.9568e-05,  8.9204e-05],\n",
       "        [-8.9354e-05,  9.6632e-05,  4.9568e-05,  8.9204e-05],\n",
       "        [-8.9354e-05,  9.6632e-05,  4.9568e-05,  8.9204e-05],\n",
       "        [-8.9354e-05,  9.6632e-05,  4.9568e-05,  8.9204e-05],\n",
       "        [-8.9354e-05,  9.6632e-05,  4.9568e-05,  8.9204e-05],\n",
       "        [-8.9354e-05,  9.6632e-05,  4.9568e-05,  8.9204e-05],\n",
       "        [-8.9354e-05,  9.6632e-05,  4.9568e-05,  8.9204e-05],\n",
       "        [-8.9354e-05,  9.6632e-05,  4.9568e-05,  8.9204e-05],\n",
       "        [-8.9354e-05,  9.6632e-05,  4.9568e-05,  8.9204e-05],\n",
       "        [-8.9354e-05,  9.6632e-05,  4.9568e-05,  8.9204e-05],\n",
       "        [-8.9354e-05,  9.6632e-05,  4.9568e-05,  8.9204e-05],\n",
       "        [-8.9354e-05,  9.6632e-05,  4.9568e-05,  8.9204e-05],\n",
       "        [-8.9354e-05,  9.6632e-05,  4.9568e-05,  8.9204e-05],\n",
       "        [-8.9354e-05,  9.6632e-05,  4.9568e-05,  8.9204e-05],\n",
       "        [-8.9354e-05,  9.6632e-05,  4.9568e-05,  8.9204e-05],\n",
       "        [-8.9354e-05,  9.6632e-05,  4.9568e-05,  8.9204e-05],\n",
       "        [-8.9354e-05,  9.6632e-05,  4.9568e-05,  8.9204e-05],\n",
       "        [-8.9354e-05,  9.6632e-05,  4.9568e-05,  8.9204e-05],\n",
       "        [-8.9354e-05,  9.6632e-05,  4.9568e-05,  8.9204e-05],\n",
       "        [-8.9354e-05,  9.6632e-05,  4.9568e-05,  8.9204e-05],\n",
       "        [-8.9354e-05,  9.6632e-05,  4.9568e-05,  8.9204e-05],\n",
       "        [-8.9354e-05,  9.6632e-05,  4.9568e-05,  8.9204e-05],\n",
       "        [-8.9354e-05,  9.6632e-05,  4.9568e-05,  8.9204e-05],\n",
       "        [-8.9354e-05,  9.6632e-05,  4.9568e-05,  8.9204e-05],\n",
       "        [-8.9354e-05,  9.6632e-05,  4.9568e-05,  8.9204e-05],\n",
       "        [-8.9354e-05,  9.6632e-05,  4.9568e-05,  8.9204e-05],\n",
       "        [-8.9354e-05,  9.6632e-05,  4.9568e-05,  8.9204e-05],\n",
       "        [-8.9354e-05,  9.6632e-05,  4.9568e-05,  8.9204e-05],\n",
       "        [-8.9354e-05,  9.6632e-05,  4.9568e-05,  8.9204e-05],\n",
       "        [-8.9354e-05,  9.6632e-05,  4.9568e-05,  8.9204e-05],\n",
       "        [-8.9354e-05,  9.6632e-05,  4.9568e-05,  8.9204e-05],\n",
       "        [-8.9354e-05,  9.6632e-05,  4.9568e-05,  8.9204e-05],\n",
       "        [-8.9354e-05,  9.6632e-05,  4.9568e-05,  8.9204e-05],\n",
       "        [-8.9354e-05,  9.6632e-05,  4.9568e-05,  8.9204e-05],\n",
       "        [-8.9354e-05,  9.6632e-05,  4.9568e-05,  8.9204e-05],\n",
       "        [-8.9354e-05,  9.6632e-05,  4.9568e-05,  8.9204e-05],\n",
       "        [-8.9354e-05,  9.6632e-05,  4.9568e-05,  8.9204e-05],\n",
       "        [-8.9354e-05,  9.6632e-05,  4.9568e-05,  8.9204e-05],\n",
       "        [-8.9354e-05,  9.6632e-05,  4.9568e-05,  8.9204e-05],\n",
       "        [-8.9354e-05,  9.6632e-05,  4.9568e-05,  8.9204e-05],\n",
       "        [-8.9354e-05,  9.6632e-05,  4.9568e-05,  8.9204e-05],\n",
       "        [-8.9354e-05,  9.6632e-05,  4.9568e-05,  8.9204e-05],\n",
       "        [-8.9354e-05,  9.6632e-05,  4.9568e-05,  8.9204e-05],\n",
       "        [-8.9354e-05,  9.6632e-05,  4.9568e-05,  8.9204e-05],\n",
       "        [-8.9354e-05,  9.6632e-05,  4.9568e-05,  8.9204e-05],\n",
       "        [-8.9354e-05,  9.6632e-05,  4.9568e-05,  8.9204e-05],\n",
       "        [-8.9354e-05,  9.6632e-05,  4.9568e-05,  8.9204e-05],\n",
       "        [-8.9354e-05,  9.6632e-05,  4.9568e-05,  8.9204e-05],\n",
       "        [-8.9354e-05,  9.6632e-05,  4.9568e-05,  8.9204e-05],\n",
       "        [-8.9354e-05,  9.6632e-05,  4.9568e-05,  8.9204e-05],\n",
       "        [-8.9354e-05,  9.6632e-05,  4.9568e-05,  8.9204e-05],\n",
       "        [-8.9354e-05,  9.6632e-05,  4.9568e-05,  8.9204e-05],\n",
       "        [-8.9354e-05,  9.6632e-05,  4.9568e-05,  8.9204e-05],\n",
       "        [-8.9354e-05,  9.6632e-05,  4.9568e-05,  8.9204e-05],\n",
       "        [-8.9354e-05,  9.6632e-05,  4.9568e-05,  8.9204e-05],\n",
       "        [-8.9354e-05,  9.6632e-05,  4.9568e-05,  8.9204e-05],\n",
       "        [-8.9354e-05,  9.6632e-05,  4.9568e-05,  8.9204e-05],\n",
       "        [-7.1257e-05,  1.2661e-04,  6.2914e-05,  9.0236e-05]],\n",
       "       grad_fn=<AsStridedBackward>)"
      ]
     },
     "execution_count": 32,
     "metadata": {},
     "output_type": "execute_result"
    }
   ],
   "source": [
    "x"
   ]
  },
  {
   "cell_type": "code",
   "execution_count": 16,
   "id": "1427b18f",
   "metadata": {},
   "outputs": [
    {
     "data": {
      "text/plain": [
       "tensor(1)"
      ]
     },
     "execution_count": 16,
     "metadata": {},
     "output_type": "execute_result"
    }
   ],
   "source": [
    "y"
   ]
  },
  {
   "cell_type": "markdown",
   "id": "865757ab",
   "metadata": {},
   "source": [
    "## Train"
   ]
  },
  {
   "cell_type": "code",
   "execution_count": null,
   "id": "4dbc78d6",
   "metadata": {},
   "outputs": [
    {
     "name": "stderr",
     "output_type": "stream",
     "text": [
      "GPU available: True, used: True\n",
      "TPU available: False, using: 0 TPU cores\n",
      "LOCAL_RANK: 0 - CUDA_VISIBLE_DEVICES: [0]\n",
      "\u001b[34m\u001b[1mwandb\u001b[0m: Currently logged in as: \u001b[33mmurnanedaniel\u001b[0m (use `wandb login --relogin` to force relogin)\n",
      "\u001b[34m\u001b[1mwandb\u001b[0m: wandb version 0.12.0 is available!  To upgrade, please run:\n",
      "\u001b[34m\u001b[1mwandb\u001b[0m:  $ pip install wandb --upgrade\n"
     ]
    },
    {
     "data": {
      "text/html": [
       "\n",
       "                Tracking run with wandb version 0.10.9<br/>\n",
       "                Syncing run <strong style=\"color:#cdcd00\">hopeful-terrain-10</strong> to <a href=\"https://wandb.ai\" target=\"_blank\">Weights & Biases</a> <a href=\"https://docs.wandb.com/integrations/jupyter.html\" target=\"_blank\">(Documentation)</a>.<br/>\n",
       "                Project page: <a href=\"https://wandb.ai/murnanedaniel/LorentzNet\" target=\"_blank\">https://wandb.ai/murnanedaniel/LorentzNet</a><br/>\n",
       "                Run page: <a href=\"https://wandb.ai/murnanedaniel/LorentzNet/runs/mbnj9to1\" target=\"_blank\">https://wandb.ai/murnanedaniel/LorentzNet/runs/mbnj9to1</a><br/>\n",
       "                Run data is saved locally in <code>wandb/run-20210824_125509-mbnj9to1</code><br/><br/>\n",
       "            "
      ],
      "text/plain": [
       "<IPython.core.display.HTML object>"
      ]
     },
     "metadata": {},
     "output_type": "display_data"
    },
    {
     "name": "stderr",
     "output_type": "stream",
     "text": [
      "Set SLURM handle signals.\n",
      "\n",
      "  | Name        | Type   | Params\n",
      "---------------------------------------\n",
      "0 | feature_in  | Linear | 128   \n",
      "1 | feature_out | Linear | 130   \n",
      "2 | gcl_0       | L_GCL  | 29.2 K\n",
      "3 | gcl_1       | L_GCL  | 29.2 K\n",
      "4 | gcl_2       | L_GCL  | 29.2 K\n",
      "5 | gcl_3       | L_GCL  | 29.2 K\n",
      "6 | gcl_4       | L_GCL  | 29.2 K\n",
      "7 | gcl_5       | L_GCL  | 29.2 K\n",
      "---------------------------------------\n",
      "175 K     Trainable params\n",
      "0         Non-trainable params\n",
      "175 K     Total params\n",
      "0.701     Total estimated model params size (MB)\n"
     ]
    },
    {
     "data": {
      "application/vnd.jupyter.widget-view+json": {
       "model_id": "",
       "version_major": 2,
       "version_minor": 0
      },
      "text/plain": [
       "Validation sanity check: 0it [00:00, ?it/s]"
      ]
     },
     "metadata": {},
     "output_type": "display_data"
    },
    {
     "name": "stderr",
     "output_type": "stream",
     "text": [
      "/global/homes/d/danieltm/.conda/envs/exatrkx-test/lib/python3.7/site-packages/pytorch_lightning/trainer/data_loading.py:103: UserWarning: The dataloader, val dataloader 0, does not have many workers which may be a bottleneck. Consider increasing the value of the `num_workers` argument` (try 80 which is the number of cpus on this machine) in the `DataLoader` init to improve performance.\n",
      "  f'The dataloader, {name}, does not have many workers which may be a bottleneck.'\n",
      "/global/homes/d/danieltm/.conda/envs/exatrkx-test/lib/python3.7/site-packages/pytorch_lightning/trainer/data_loading.py:103: UserWarning: The dataloader, train dataloader, does not have many workers which may be a bottleneck. Consider increasing the value of the `num_workers` argument` (try 80 which is the number of cpus on this machine) in the `DataLoader` init to improve performance.\n",
      "  f'The dataloader, {name}, does not have many workers which may be a bottleneck.'\n"
     ]
    },
    {
     "data": {
      "application/vnd.jupyter.widget-view+json": {
       "model_id": "10e4ddc682e7434c9ee13c134230fa4b",
       "version_major": 2,
       "version_minor": 0
      },
      "text/plain": [
       "Training: 0it [00:00, ?it/s]"
      ]
     },
     "metadata": {},
     "output_type": "display_data"
    },
    {
     "data": {
      "application/vnd.jupyter.widget-view+json": {
       "model_id": "",
       "version_major": 2,
       "version_minor": 0
      },
      "text/plain": [
       "Validating: 0it [00:00, ?it/s]"
      ]
     },
     "metadata": {},
     "output_type": "display_data"
    },
    {
     "name": "stderr",
     "output_type": "stream",
     "text": [
      "/global/homes/d/danieltm/.conda/envs/exatrkx-test/lib/python3.7/site-packages/pytorch_lightning/callbacks/model_checkpoint.py:611: LightningDeprecationWarning: Relying on `self.log('val_loss', ...)` to set the ModelCheckpoint monitor is deprecated in v1.2 and will be removed in v1.4. Please, create your own `mc = ModelCheckpoint(monitor='your_monitor')` and use it as `Trainer(callbacks=[mc])`.\n",
      "  \"Relying on `self.log('val_loss', ...)` to set the ModelCheckpoint monitor is deprecated in v1.2\"\n"
     ]
    },
    {
     "data": {
      "application/vnd.jupyter.widget-view+json": {
       "model_id": "",
       "version_major": 2,
       "version_minor": 0
      },
      "text/plain": [
       "Validating: 0it [00:00, ?it/s]"
      ]
     },
     "metadata": {},
     "output_type": "display_data"
    },
    {
     "data": {
      "application/vnd.jupyter.widget-view+json": {
       "model_id": "",
       "version_major": 2,
       "version_minor": 0
      },
      "text/plain": [
       "Validating: 0it [00:00, ?it/s]"
      ]
     },
     "metadata": {},
     "output_type": "display_data"
    },
    {
     "data": {
      "application/vnd.jupyter.widget-view+json": {
       "model_id": "",
       "version_major": 2,
       "version_minor": 0
      },
      "text/plain": [
       "Validating: 0it [00:00, ?it/s]"
      ]
     },
     "metadata": {},
     "output_type": "display_data"
    },
    {
     "data": {
      "application/vnd.jupyter.widget-view+json": {
       "model_id": "",
       "version_major": 2,
       "version_minor": 0
      },
      "text/plain": [
       "Validating: 0it [00:00, ?it/s]"
      ]
     },
     "metadata": {},
     "output_type": "display_data"
    },
    {
     "data": {
      "application/vnd.jupyter.widget-view+json": {
       "model_id": "",
       "version_major": 2,
       "version_minor": 0
      },
      "text/plain": [
       "Validating: 0it [00:00, ?it/s]"
      ]
     },
     "metadata": {},
     "output_type": "display_data"
    },
    {
     "data": {
      "application/vnd.jupyter.widget-view+json": {
       "model_id": "",
       "version_major": 2,
       "version_minor": 0
      },
      "text/plain": [
       "Validating: 0it [00:00, ?it/s]"
      ]
     },
     "metadata": {},
     "output_type": "display_data"
    },
    {
     "data": {
      "application/vnd.jupyter.widget-view+json": {
       "model_id": "",
       "version_major": 2,
       "version_minor": 0
      },
      "text/plain": [
       "Validating: 0it [00:00, ?it/s]"
      ]
     },
     "metadata": {},
     "output_type": "display_data"
    },
    {
     "data": {
      "application/vnd.jupyter.widget-view+json": {
       "model_id": "",
       "version_major": 2,
       "version_minor": 0
      },
      "text/plain": [
       "Validating: 0it [00:00, ?it/s]"
      ]
     },
     "metadata": {},
     "output_type": "display_data"
    },
    {
     "data": {
      "application/vnd.jupyter.widget-view+json": {
       "model_id": "",
       "version_major": 2,
       "version_minor": 0
      },
      "text/plain": [
       "Validating: 0it [00:00, ?it/s]"
      ]
     },
     "metadata": {},
     "output_type": "display_data"
    },
    {
     "data": {
      "application/vnd.jupyter.widget-view+json": {
       "model_id": "",
       "version_major": 2,
       "version_minor": 0
      },
      "text/plain": [
       "Validating: 0it [00:00, ?it/s]"
      ]
     },
     "metadata": {},
     "output_type": "display_data"
    },
    {
     "data": {
      "application/vnd.jupyter.widget-view+json": {
       "model_id": "",
       "version_major": 2,
       "version_minor": 0
      },
      "text/plain": [
       "Validating: 0it [00:00, ?it/s]"
      ]
     },
     "metadata": {},
     "output_type": "display_data"
    },
    {
     "data": {
      "application/vnd.jupyter.widget-view+json": {
       "model_id": "",
       "version_major": 2,
       "version_minor": 0
      },
      "text/plain": [
       "Validating: 0it [00:00, ?it/s]"
      ]
     },
     "metadata": {},
     "output_type": "display_data"
    },
    {
     "data": {
      "application/vnd.jupyter.widget-view+json": {
       "model_id": "",
       "version_major": 2,
       "version_minor": 0
      },
      "text/plain": [
       "Validating: 0it [00:00, ?it/s]"
      ]
     },
     "metadata": {},
     "output_type": "display_data"
    },
    {
     "data": {
      "application/vnd.jupyter.widget-view+json": {
       "model_id": "",
       "version_major": 2,
       "version_minor": 0
      },
      "text/plain": [
       "Validating: 0it [00:00, ?it/s]"
      ]
     },
     "metadata": {},
     "output_type": "display_data"
    },
    {
     "data": {
      "application/vnd.jupyter.widget-view+json": {
       "model_id": "",
       "version_major": 2,
       "version_minor": 0
      },
      "text/plain": [
       "Validating: 0it [00:00, ?it/s]"
      ]
     },
     "metadata": {},
     "output_type": "display_data"
    },
    {
     "data": {
      "application/vnd.jupyter.widget-view+json": {
       "model_id": "",
       "version_major": 2,
       "version_minor": 0
      },
      "text/plain": [
       "Validating: 0it [00:00, ?it/s]"
      ]
     },
     "metadata": {},
     "output_type": "display_data"
    },
    {
     "data": {
      "application/vnd.jupyter.widget-view+json": {
       "model_id": "",
       "version_major": 2,
       "version_minor": 0
      },
      "text/plain": [
       "Validating: 0it [00:00, ?it/s]"
      ]
     },
     "metadata": {},
     "output_type": "display_data"
    },
    {
     "data": {
      "application/vnd.jupyter.widget-view+json": {
       "model_id": "",
       "version_major": 2,
       "version_minor": 0
      },
      "text/plain": [
       "Validating: 0it [00:00, ?it/s]"
      ]
     },
     "metadata": {},
     "output_type": "display_data"
    },
    {
     "data": {
      "application/vnd.jupyter.widget-view+json": {
       "model_id": "",
       "version_major": 2,
       "version_minor": 0
      },
      "text/plain": [
       "Validating: 0it [00:00, ?it/s]"
      ]
     },
     "metadata": {},
     "output_type": "display_data"
    },
    {
     "data": {
      "application/vnd.jupyter.widget-view+json": {
       "model_id": "",
       "version_major": 2,
       "version_minor": 0
      },
      "text/plain": [
       "Validating: 0it [00:00, ?it/s]"
      ]
     },
     "metadata": {},
     "output_type": "display_data"
    },
    {
     "data": {
      "application/vnd.jupyter.widget-view+json": {
       "model_id": "",
       "version_major": 2,
       "version_minor": 0
      },
      "text/plain": [
       "Validating: 0it [00:00, ?it/s]"
      ]
     },
     "metadata": {},
     "output_type": "display_data"
    },
    {
     "data": {
      "application/vnd.jupyter.widget-view+json": {
       "model_id": "",
       "version_major": 2,
       "version_minor": 0
      },
      "text/plain": [
       "Validating: 0it [00:00, ?it/s]"
      ]
     },
     "metadata": {},
     "output_type": "display_data"
    },
    {
     "data": {
      "application/vnd.jupyter.widget-view+json": {
       "model_id": "",
       "version_major": 2,
       "version_minor": 0
      },
      "text/plain": [
       "Validating: 0it [00:00, ?it/s]"
      ]
     },
     "metadata": {},
     "output_type": "display_data"
    },
    {
     "data": {
      "application/vnd.jupyter.widget-view+json": {
       "model_id": "",
       "version_major": 2,
       "version_minor": 0
      },
      "text/plain": [
       "Validating: 0it [00:00, ?it/s]"
      ]
     },
     "metadata": {},
     "output_type": "display_data"
    },
    {
     "data": {
      "application/vnd.jupyter.widget-view+json": {
       "model_id": "",
       "version_major": 2,
       "version_minor": 0
      },
      "text/plain": [
       "Validating: 0it [00:00, ?it/s]"
      ]
     },
     "metadata": {},
     "output_type": "display_data"
    },
    {
     "data": {
      "application/vnd.jupyter.widget-view+json": {
       "model_id": "",
       "version_major": 2,
       "version_minor": 0
      },
      "text/plain": [
       "Validating: 0it [00:00, ?it/s]"
      ]
     },
     "metadata": {},
     "output_type": "display_data"
    },
    {
     "data": {
      "application/vnd.jupyter.widget-view+json": {
       "model_id": "",
       "version_major": 2,
       "version_minor": 0
      },
      "text/plain": [
       "Validating: 0it [00:00, ?it/s]"
      ]
     },
     "metadata": {},
     "output_type": "display_data"
    },
    {
     "data": {
      "application/vnd.jupyter.widget-view+json": {
       "model_id": "",
       "version_major": 2,
       "version_minor": 0
      },
      "text/plain": [
       "Validating: 0it [00:00, ?it/s]"
      ]
     },
     "metadata": {},
     "output_type": "display_data"
    },
    {
     "data": {
      "application/vnd.jupyter.widget-view+json": {
       "model_id": "",
       "version_major": 2,
       "version_minor": 0
      },
      "text/plain": [
       "Validating: 0it [00:00, ?it/s]"
      ]
     },
     "metadata": {},
     "output_type": "display_data"
    }
   ],
   "source": [
    "logger = WandbLogger(project=\"LorentzNet\", group=\"InitialTest\")\n",
    "trainer = Trainer(gpus=1, max_epochs=hparams[\"max_epochs\"], logger=logger)\n",
    "trainer.fit(model)"
   ]
  },
  {
   "cell_type": "markdown",
   "id": "670e0cad",
   "metadata": {},
   "source": [
    "## Validate"
   ]
  },
  {
   "cell_type": "code",
   "execution_count": null,
   "id": "07f699a2",
   "metadata": {},
   "outputs": [],
   "source": []
  },
  {
   "cell_type": "code",
   "execution_count": null,
   "id": "aa9daea0",
   "metadata": {},
   "outputs": [],
   "source": []
  },
  {
   "cell_type": "code",
   "execution_count": null,
   "id": "998f3aa2",
   "metadata": {},
   "outputs": [],
   "source": []
  },
  {
   "cell_type": "code",
   "execution_count": null,
   "id": "f8a78b4f",
   "metadata": {},
   "outputs": [],
   "source": []
  },
  {
   "cell_type": "code",
   "execution_count": null,
   "id": "240703f6",
   "metadata": {},
   "outputs": [],
   "source": []
  },
  {
   "cell_type": "code",
   "execution_count": null,
   "id": "dfac1544",
   "metadata": {},
   "outputs": [],
   "source": []
  },
  {
   "cell_type": "code",
   "execution_count": null,
   "id": "513cf352",
   "metadata": {},
   "outputs": [],
   "source": []
  },
  {
   "cell_type": "code",
   "execution_count": null,
   "id": "510d3699",
   "metadata": {},
   "outputs": [],
   "source": []
  },
  {
   "cell_type": "code",
   "execution_count": null,
   "id": "9cb3b84c",
   "metadata": {},
   "outputs": [],
   "source": []
  },
  {
   "cell_type": "code",
   "execution_count": null,
   "id": "a0329ad7",
   "metadata": {},
   "outputs": [],
   "source": []
  },
  {
   "cell_type": "code",
   "execution_count": null,
   "id": "fce2e696",
   "metadata": {},
   "outputs": [],
   "source": []
  },
  {
   "cell_type": "code",
   "execution_count": null,
   "id": "8c36633d",
   "metadata": {},
   "outputs": [],
   "source": []
  },
  {
   "cell_type": "code",
   "execution_count": null,
   "id": "bbb410a2",
   "metadata": {},
   "outputs": [],
   "source": []
  },
  {
   "cell_type": "code",
   "execution_count": null,
   "id": "08c8be6c",
   "metadata": {},
   "outputs": [],
   "source": []
  },
  {
   "cell_type": "code",
   "execution_count": null,
   "id": "b991359b",
   "metadata": {},
   "outputs": [],
   "source": []
  },
  {
   "cell_type": "code",
   "execution_count": null,
   "id": "276bf139",
   "metadata": {},
   "outputs": [],
   "source": []
  },
  {
   "cell_type": "code",
   "execution_count": null,
   "id": "8b2625cf",
   "metadata": {},
   "outputs": [],
   "source": []
  },
  {
   "cell_type": "code",
   "execution_count": null,
   "id": "698f5a7a",
   "metadata": {},
   "outputs": [],
   "source": []
  },
  {
   "cell_type": "code",
   "execution_count": null,
   "id": "2188aa82",
   "metadata": {},
   "outputs": [],
   "source": []
  },
  {
   "cell_type": "code",
   "execution_count": null,
   "id": "bebff2f0",
   "metadata": {},
   "outputs": [],
   "source": []
  },
  {
   "cell_type": "code",
   "execution_count": null,
   "id": "6e8a67cd",
   "metadata": {},
   "outputs": [],
   "source": []
  },
  {
   "cell_type": "code",
   "execution_count": null,
   "id": "ed2abfce",
   "metadata": {},
   "outputs": [],
   "source": []
  },
  {
   "cell_type": "code",
   "execution_count": null,
   "id": "770572dc",
   "metadata": {},
   "outputs": [],
   "source": []
  },
  {
   "cell_type": "code",
   "execution_count": null,
   "id": "6de2d360",
   "metadata": {},
   "outputs": [],
   "source": []
  }
 ],
 "metadata": {
  "kernelspec": {
   "display_name": "ExatrkxTest",
   "language": "python",
   "name": "exatrkx-test"
  },
  "language_info": {
   "codemirror_mode": {
    "name": "ipython",
    "version": 3
   },
   "file_extension": ".py",
   "mimetype": "text/x-python",
   "name": "python",
   "nbconvert_exporter": "python",
   "pygments_lexer": "ipython3",
   "version": "3.7.7"
  }
 },
 "nbformat": 4,
 "nbformat_minor": 5
}
